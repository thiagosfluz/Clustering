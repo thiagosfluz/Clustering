{
  "nbformat": 4,
  "nbformat_minor": 0,
  "metadata": {
    "colab": {
      "private_outputs": true,
      "provenance": [],
      "mount_file_id": "1imIrUEkOzSlYiiN_1tBMrkPYKze7Lj6H",
      "authorship_tag": "ABX9TyOXR+XUOy1kwsGygOVNQdcr",
      "include_colab_link": true
    },
    "kernelspec": {
      "name": "python3",
      "display_name": "Python 3"
    },
    "language_info": {
      "name": "python"
    }
  },
  "cells": [
    {
      "cell_type": "markdown",
      "metadata": {
        "id": "view-in-github",
        "colab_type": "text"
      },
      "source": [
        "<a href=\"https://colab.research.google.com/github/thiagosfluz/Clustering/blob/main/FlowerSpeciesClassification.ipynb\" target=\"_parent\"><img src=\"https://colab.research.google.com/assets/colab-badge.svg\" alt=\"Open In Colab\"/></a>"
      ]
    },
    {
      "cell_type": "markdown",
      "source": [
        "This Machine Learning project will allow will the AI to classify types of flowers based on the lenght and width from sepal and petal."
      ],
      "metadata": {
        "id": "dP3vcIWd_oIC"
      }
    },
    {
      "cell_type": "markdown",
      "source": [
        "**Importing** **the libraries**\n"
      ],
      "metadata": {
        "id": "f-nrhefXAJzj"
      }
    },
    {
      "cell_type": "code",
      "execution_count": null,
      "metadata": {
        "id": "DeqVdYg5_Jw3"
      },
      "outputs": [],
      "source": [
        "import pandas as pd\n",
        "import numpy as np\n",
        "import matplotlib.pyplot as plt\n",
        "from sklearn.neighbors import KNeighborsClassifier\n",
        "from sklearn import preprocessing\n",
        "from sklearn.model_selection import train_test_split"
      ]
    },
    {
      "cell_type": "markdown",
      "source": [
        "**Reading the dataset**"
      ],
      "metadata": {
        "id": "-RIZZEBsBzyF"
      }
    },
    {
      "cell_type": "code",
      "source": [
        "iris = pd.read_csv('/content/drive/MyDrive/Formação em dados/Projetos/iris.csv')"
      ],
      "metadata": {
        "id": "EVVhfas7B3i1"
      },
      "execution_count": null,
      "outputs": []
    },
    {
      "cell_type": "code",
      "source": [
        "iris.head()"
      ],
      "metadata": {
        "id": "QgVKuNuvDDq_"
      },
      "execution_count": null,
      "outputs": []
    },
    {
      "cell_type": "code",
      "source": [
        "iris.tail()"
      ],
      "metadata": {
        "id": "sv2Qfut3DT87"
      },
      "execution_count": null,
      "outputs": []
    },
    {
      "cell_type": "markdown",
      "source": [
        "**Data Analysis**"
      ],
      "metadata": {
        "id": "d4JwthxhDz57"
      }
    },
    {
      "cell_type": "code",
      "source": [
        "#shape\n",
        "iris.shape"
      ],
      "metadata": {
        "id": "zBotLakFD5Of"
      },
      "execution_count": null,
      "outputs": []
    },
    {
      "cell_type": "code",
      "source": [
        "iris['species'].value_counts()"
      ],
      "metadata": {
        "id": "GUBLipSPEDDo"
      },
      "execution_count": null,
      "outputs": []
    },
    {
      "cell_type": "code",
      "source": [
        "iris.columns"
      ],
      "metadata": {
        "id": "knpiHSx2EMne"
      },
      "execution_count": null,
      "outputs": []
    },
    {
      "cell_type": "code",
      "source": [
        "iris.values"
      ],
      "metadata": {
        "id": "Pwetuh-kEYnS"
      },
      "execution_count": null,
      "outputs": []
    },
    {
      "cell_type": "code",
      "source": [
        "#info about the dataset\n",
        "iris.info()"
      ],
      "metadata": {
        "id": "r3HiCfAAEbuU"
      },
      "execution_count": null,
      "outputs": []
    },
    {
      "cell_type": "code",
      "source": [
        "iris.describe()"
      ],
      "metadata": {
        "id": "22S8f2N0Ey9j"
      },
      "execution_count": null,
      "outputs": []
    },
    {
      "cell_type": "markdown",
      "source": [
        "**Splliting dataset into X and y**"
      ],
      "metadata": {
        "id": "qAYO5vezF_D9"
      }
    },
    {
      "cell_type": "code",
      "source": [
        "X = iris.iloc[:,:4]  # Take all rows and the four columns\n",
        "y = iris.iloc[:,-1]"
      ],
      "metadata": {
        "id": "5w4b4ArBGPcd"
      },
      "execution_count": null,
      "outputs": []
    },
    {
      "cell_type": "code",
      "source": [
        "y"
      ],
      "metadata": {
        "id": "FbMH7gWXGm2i"
      },
      "execution_count": null,
      "outputs": []
    },
    {
      "cell_type": "markdown",
      "source": [
        "**Data Normalization**"
      ],
      "metadata": {
        "id": "5fSMHurjHX33"
      }
    },
    {
      "cell_type": "code",
      "source": [
        "X = preprocessing.StandardScaler().fit_transform(X)"
      ],
      "metadata": {
        "id": "H39_YI8VHbuh"
      },
      "execution_count": null,
      "outputs": []
    },
    {
      "cell_type": "code",
      "source": [
        "X"
      ],
      "metadata": {
        "id": "PZBqDT6_HTA2"
      },
      "execution_count": null,
      "outputs": []
    },
    {
      "cell_type": "markdown",
      "source": [
        "**Train Test Split**"
      ],
      "metadata": {
        "id": "fhgcyYX9HWB5"
      }
    },
    {
      "cell_type": "code",
      "source": [
        "X_train,X_test,y_train,y_test = train_test_split(X,y, test_size=0.2, random_state=2)"
      ],
      "metadata": {
        "id": "26wVYcE9HZaj"
      },
      "execution_count": null,
      "outputs": []
    },
    {
      "cell_type": "code",
      "source": [
        "X_train.shape"
      ],
      "metadata": {
        "id": "M2ig9vK3HwDA"
      },
      "execution_count": null,
      "outputs": []
    },
    {
      "cell_type": "code",
      "source": [
        "X_test.shape"
      ],
      "metadata": {
        "id": "wRp35LUsIIs1"
      },
      "execution_count": null,
      "outputs": []
    },
    {
      "cell_type": "markdown",
      "source": [
        "**Data Model and Predicting**"
      ],
      "metadata": {
        "id": "r24qrybxIQ8f"
      }
    },
    {
      "cell_type": "code",
      "source": [
        "knmodel = KNeighborsClassifier(n_neighbors=3)"
      ],
      "metadata": {
        "id": "sI-_9yIRIWBw"
      },
      "execution_count": null,
      "outputs": []
    },
    {
      "cell_type": "code",
      "source": [
        "knmodel.fit(X_train, y_train)"
      ],
      "metadata": {
        "id": "g9QLCariIn0q"
      },
      "execution_count": null,
      "outputs": []
    },
    {
      "cell_type": "code",
      "source": [
        "y_predict = knmodel.predict(X_test)"
      ],
      "metadata": {
        "id": "f9ArJy0CIx0K"
      },
      "execution_count": null,
      "outputs": []
    },
    {
      "cell_type": "markdown",
      "source": [
        "**Accuracy Score**"
      ],
      "metadata": {
        "id": "vS-AmsmjJP8o"
      }
    },
    {
      "cell_type": "code",
      "source": [
        "from sklearn.metrics import accuracy_score\n",
        "\n",
        "acc = accuracy_score(y_test.values, y_predict)"
      ],
      "metadata": {
        "id": "xrs6j3moJSfH"
      },
      "execution_count": null,
      "outputs": []
    },
    {
      "cell_type": "code",
      "source": [
        "print('Percentage of the model is: 'f\"{acc:.2%}\")"
      ],
      "metadata": {
        "id": "QTgShLDAJwJs"
      },
      "execution_count": null,
      "outputs": []
    }
  ]
}